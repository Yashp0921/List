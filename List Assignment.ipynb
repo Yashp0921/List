{
 "cells": [
  {
   "cell_type": "code",
   "execution_count": 6,
   "id": "0377af51",
   "metadata": {},
   "outputs": [
    {
     "name": "stdout",
     "output_type": "stream",
     "text": [
      "Enter a list of integers : [1,2,3,4,5,6,7,8,9,10,11,12,13,14,15]\n",
      "Total number of items: 15\n",
      "Last item: 15\n",
      "List in reverse order: [15, 14, 13, 12, 11, 10, 9, 8, 7, 6, 5, 4, 3, 2, 1]\n",
      "Yes\n",
      "Number of fives: 1\n",
      "Sorted list after removing first and last items: [2, 3, 4, 5, 6, 7, 8, 9, 10, 11, 12, 13, 14]\n",
      "Number of integers less than 5: 4\n"
     ]
    }
   ],
   "source": [
    "# Q.1\n",
    "list = eval(input(\"Enter a list of integers : \"))\n",
    "\n",
    "print(\"Total number of items:\", len(list))\n",
    "\n",
    "print(\"Last item:\", list[-1])\n",
    "\n",
    "print(\"List in reverse order:\", list[::-1])\n",
    "\n",
    "if 5 in list:\n",
    "        print(\"Yes\")\n",
    "else:\n",
    "    print(\"No\")\n",
    "\n",
    "num_fives = list.count(5)\n",
    "print(\"Number of fives:\", num_fives)\n",
    "\n",
    "remaining_items = list[1:-1]\n",
    "remaining_items.sort()\n",
    "print(\"Sorted list after removing first and last items:\", remaining_items)\n",
    "\n",
    "less_than_five_count = sum(1 for num in list if num < 5)\n",
    "print(\"Number of integers less than 5:\", less_than_five_count)"
   ]
  },
  {
   "cell_type": "code",
   "execution_count": 20,
   "id": "b52c79c5",
   "metadata": {},
   "outputs": [
    {
     "name": "stdout",
     "output_type": "stream",
     "text": [
      "Random Numbers(1,100): [5, 4, 81, 80, 67, 20, 21, 49, 24, 58, 2, 73, 98, 94, 80, 70, 11, 98, 23, 36]\n",
      "Average: 49.7\n",
      "Largest value: 98\n",
      "Smallest value: 2\n",
      "Second largest value: 98\n",
      "Second smallest value: 4\n",
      "Number of even numbers: 12\n"
     ]
    }
   ],
   "source": [
    "#Q.2\n",
    "\n",
    "import random\n",
    "\n",
    "l1=[]\n",
    "for i in range(20):\n",
    "    l1.append(random.randint(1,100))\n",
    "print(\"Random Numbers(1,100):\",l1)\n",
    "\n",
    "average = sum(l1) / len(l1)\n",
    "print(\"Average:\", average)\n",
    "\n",
    "largest = max(l1)\n",
    "smallest = min(l1)\n",
    "print(\"Largest value:\", largest)\n",
    "print(\"Smallest value:\", smallest)\n",
    "\n",
    "\n",
    "sorted_list = sorted(l1)\n",
    "second_largest = sorted_list[-2]\n",
    "second_smallest = sorted_list[1]\n",
    "print(\"Second largest value:\", second_largest)\n",
    "print(\"Second smallest value:\", second_smallest)\n",
    "\n",
    "   \n",
    "even_count = sum(1 for num in l1 if num % 2 == 0)\n",
    "print(\"Number of even numbers:\", even_count)"
   ]
  },
  {
   "cell_type": "code",
   "execution_count": 1,
   "id": "fd1846be",
   "metadata": {},
   "outputs": [
    {
     "name": "stdout",
     "output_type": "stream",
     "text": [
      "The final list should equal: [4, 5, 6, 25, 10, 17, 4, 5, 6, 10, 17]\n"
     ]
    }
   ],
   "source": [
    "#Q.3\n",
    "list=[8,9,10]\n",
    "\n",
    "list[1]=17\n",
    "\n",
    "list.extend([4,5,6])\n",
    "\n",
    "list.pop(0)\n",
    "\n",
    "list.sort()\n",
    "\n",
    "list*=2\n",
    "\n",
    "list.insert(3,25)\n",
    "\n",
    "print(\"The final list should equal:\",list)"
   ]
  },
  {
   "cell_type": "code",
   "execution_count": 2,
   "id": "a3363885",
   "metadata": {},
   "outputs": [
    {
     "name": "stdout",
     "output_type": "stream",
     "text": [
      "Enter a list containing numbers between 1 and 12: [2,5,7,8,10,11,12]\n",
      "Replaced Numbers with 10:  [2, 5, 7, 8, 10, 10, 10]\n"
     ]
    }
   ],
   "source": [
    "#Q.4\n",
    "\n",
    "lst=eval(input(\"Enter a list containing numbers between 1 and 12: \"))\n",
    "for i in range(len(lst)):\n",
    "    if lst[i]>10:\n",
    "        lst[i]=10\n",
    "        \n",
    "print(\"Replaced Numbers with 10: \",lst)"
   ]
  },
  {
   "cell_type": "code",
   "execution_count": 4,
   "id": "9176c136",
   "metadata": {},
   "outputs": [
    {
     "name": "stdout",
     "output_type": "stream",
     "text": [
      "Enter a list of strings: [\"yash\",\"arvind\",\"nibedita\",\"rahul\",\"sanket\"]\n",
      "new list of strings with their first characters removed are:  ['ash', 'rvind', 'ibedita', 'ahul', 'anket']\n"
     ]
    }
   ],
   "source": [
    "#Q.5\n",
    "lst_1=eval(input(\"Enter a list of strings: \"))\n",
    "lst_2=[]\n",
    "\n",
    "for i in range(len(lst_1)):\n",
    "    lst_2.append(lst_1[i][1:])\n",
    "    \n",
    "print(\"new list of strings with their first characters removed are: \",lst_2)"
   ]
  },
  {
   "cell_type": "code",
   "execution_count": 5,
   "id": "4f6ae445",
   "metadata": {},
   "outputs": [
    {
     "name": "stdout",
     "output_type": "stream",
     "text": [
      "[0, 1, 2, 3, 4, 5, 6, 7, 8, 9, 10, 11, 12, 13, 14, 15, 16, 17, 18, 19, 20, 21, 22, 23, 24, 25, 26, 27, 28, 29, 30, 31, 32, 33, 34, 35, 36, 37, 38, 39, 40, 41, 42, 43, 44, 45, 46, 47, 48, 49]\n",
      "[1, 4, 9, 16, 25, 36, 49, 64, 81, 100, 121, 144, 169, 196, 225, 256, 289, 324, 361, 400, 441, 484, 529, 576, 625, 676, 729, 784, 841, 900, 961, 1024, 1089, 1156, 1225, 1296, 1369, 1444, 1521, 1600, 1681, 1764, 1849, 1936, 2025, 2116, 2209, 2304, 2401, 2500]\n",
      "['a', 'bb', 'ccc', 'dddd', 'eeeee', 'ffffff', 'ggggggg', 'hhhhhhhh', 'iiiiiiiii', 'jjjjjjjjjj', 'kkkkkkkkkkk', 'llllllllllll', 'mmmmmmmmmmmmm', 'nnnnnnnnnnnnnn', 'ooooooooooooooo', 'pppppppppppppppp', 'qqqqqqqqqqqqqqqqq', 'rrrrrrrrrrrrrrrrrr', 'sssssssssssssssssss', 'tttttttttttttttttttt', 'uuuuuuuuuuuuuuuuuuuuu', 'vvvvvvvvvvvvvvvvvvvvvv', 'wwwwwwwwwwwwwwwwwwwwwww', 'xxxxxxxxxxxxxxxxxxxxxxxx', 'yyyyyyyyyyyyyyyyyyyyyyyyy', 'zzzzzzzzzzzzzzzzzzzzzzzzzz']\n"
     ]
    }
   ],
   "source": [
    "#Q.6\n",
    "\n",
    "l1=[i for i in range (50)]\n",
    "l2=[i**2 for i in range(1,51)]\n",
    "l3=[chr(ord('a')+i)*(i+1) for i in range(26)]\n",
    "print(l1)\n",
    "print(l2)\n",
    "print(l3)"
   ]
  },
  {
   "cell_type": "code",
   "execution_count": 3,
   "id": "ee4f1311",
   "metadata": {},
   "outputs": [
    {
     "name": "stdout",
     "output_type": "stream",
     "text": [
      "list_N should be equal:  [4, 6, 13]\n"
     ]
    }
   ],
   "source": [
    "#Q.7\n",
    "\n",
    "list_L=[3,1,4]\n",
    "list_M=[1,5,9]\n",
    "\n",
    "list_N=[]\n",
    "for i in range(len(list_L)):\n",
    "    o=list_L[i]+list_M[i]\n",
    "    list_N.append(o)\n",
    "\n",
    "\n",
    "print(\"list_N should be equal: \",list_N)\n",
    "\n",
    "\n"
   ]
  },
  {
   "cell_type": "code",
   "execution_count": 1,
   "id": "67a7b8ec",
   "metadata": {},
   "outputs": [
    {
     "name": "stdout",
     "output_type": "stream",
     "text": [
      "Generated list: [1, 1, 1, 0, 1, 1, 0, 0, 0, 0, 1, 0, 1, 0, 0, 0, 1, 1, 0, 1, 1, 1, 1, 0, 0, 0, 1, 1, 1, 0, 1, 0, 0, 1, 0, 0, 0, 0, 1, 1, 0, 1, 1, 0, 1, 1, 1, 1, 0, 0, 0, 0, 1, 0, 0, 0, 1, 0, 0, 0, 1, 0, 1, 1, 0, 1, 0, 0, 0, 0, 1, 0, 0, 1, 1, 0, 0, 0, 0, 0, 1, 0, 0, 1, 1, 0, 0, 1, 0, 1, 1, 0, 1, 0, 1, 1, 1, 0, 0, 0]\n",
      "Longest run of zeros: 5\n"
     ]
    }
   ],
   "source": [
    "#Q.8\n",
    "import random\n",
    "\n",
    "random_list = [random.randint(0, 1) for _ in range(100)]\n",
    "\n",
    "print(\"Generated list:\", random_list)\n",
    "\n",
    "longest_run = 0\n",
    "current_run = 0\n",
    "\n",
    "for num in random_list:\n",
    "    if num == 0:\n",
    "        current_run += 1\n",
    "        longest_run = max(longest_run, current_run)\n",
    "    else:\n",
    "        current_run = 0\n",
    "        \n",
    "print(\"Longest run of zeros:\", longest_run)\n"
   ]
  },
  {
   "cell_type": "code",
   "execution_count": 3,
   "id": "8e64f10e",
   "metadata": {},
   "outputs": [
    {
     "name": "stdout",
     "output_type": "stream",
     "text": [
      "List with Duplicates removed are:  [1, 2, 3, 4, 0]\n"
     ]
    }
   ],
   "source": [
    "#Q.9\n",
    "\n",
    "list12=[1,2,3,4,3,0,0]\n",
    "\n",
    "list_12=[]\n",
    "\n",
    "for i in list12:\n",
    "    if i not in list_12:\n",
    "        list_12.append(i)\n",
    "        \n",
    "print(\"List with Duplicates removed are: \",list_12)"
   ]
  },
  {
   "cell_type": "code",
   "execution_count": 5,
   "id": "3a374056",
   "metadata": {},
   "outputs": [
    {
     "name": "stdout",
     "output_type": "stream",
     "text": [
      "Enter a length in feet: 100\n",
      "Conversion options:\n",
      "1. Convert to inches\n",
      "2. Convert to yards\n",
      "3. Convert to miles\n",
      "4. Convert to millimeters\n",
      "5. Convert to centimeters\n",
      "6. Convert to meters\n",
      "7. Convert to kilometers\n",
      "Choose a conversion option (1-7): 5\n",
      "100.0 feet is equal to 3048.0 centimeters\n"
     ]
    }
   ],
   "source": [
    "#Q.10\n",
    "conversion_values= [12, 1/3, 1/5280, 304.8, 30.48, 0.3048, 0.0003048]\n",
    "unit_names = [\"inches\", \"yards\", \"miles\", \"millimeters\", \"centimeters\", \"meters\", \"kilometers\"]\n",
    "\n",
    "feet_value = float(input(\"Enter a length in feet: \"))\n",
    "print(\"Conversion options:\")\n",
    "for i, unit in enumerate(unit_names, start=1):\n",
    "    print(f\"{i}. Convert to {unit}\")\n",
    "choose_value = int(input(\"Choose a conversion option (1-7): \")) - 1\n",
    "\n",
    "if 0 <= choose_value < len(conversion_values):\n",
    "    converted_value = feet_value * conversion_values[choose_value]\n",
    "    unit_name = unit_names[choose_value]\n",
    "    print(f\"{feet_value} feet is equal to {converted_value} {unit_name}\")\n",
    "else:\n",
    "    print(\"Invalid choice!\")\n"
   ]
  },
  {
   "cell_type": "code",
   "execution_count": null,
   "id": "1a59f732",
   "metadata": {},
   "outputs": [],
   "source": []
  },
  {
   "cell_type": "code",
   "execution_count": null,
   "id": "b97d3095",
   "metadata": {},
   "outputs": [],
   "source": []
  },
  {
   "cell_type": "code",
   "execution_count": null,
   "id": "2c439f76",
   "metadata": {},
   "outputs": [],
   "source": []
  }
 ],
 "metadata": {
  "kernelspec": {
   "display_name": "Python 3 (ipykernel)",
   "language": "python",
   "name": "python3"
  },
  "language_info": {
   "codemirror_mode": {
    "name": "ipython",
    "version": 3
   },
   "file_extension": ".py",
   "mimetype": "text/x-python",
   "name": "python",
   "nbconvert_exporter": "python",
   "pygments_lexer": "ipython3",
   "version": "3.10.9"
  }
 },
 "nbformat": 4,
 "nbformat_minor": 5
}
